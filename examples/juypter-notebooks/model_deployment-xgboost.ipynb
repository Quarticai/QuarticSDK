{
 "cells": [
  {
   "cell_type": "code",
   "execution_count": null,
   "metadata": {},
   "outputs": [],
   "source": [
    "from quartic_sdk import APIClient\n",
    "import pandas as pd\n",
    "from sklearn.decomposition import PCA\n",
    "from sklearn.linear_model import LinearRegression"
   ]
  },
  {
   "cell_type": "code",
   "execution_count": null,
   "metadata": {},
   "outputs": [],
   "source": [
    "# intialize a Quartic Platform API client  \n",
    "client = APIClient(\"https://stag.quartic.ai/\",\n",
    "                   username=\"doe@quartic.ai\",\n",
    "                   password=\"doe@quartic.ai\")"
   ]
  },
  {
   "cell_type": "code",
   "execution_count": null,
   "metadata": {},
   "outputs": [],
   "source": [
    "assets = client.assets()"
   ]
  },
  {
   "cell_type": "code",
   "execution_count": null,
   "metadata": {},
   "outputs": [],
   "source": [
    "asset = assets.get(\"name\", \"Spectral Asset Canada Team\")\n",
    "asset_tags = client.tags(asset_id=asset.id)"
   ]
  },
  {
   "cell_type": "markdown",
   "metadata": {},
   "source": [
    "# Train and deploy a XGBoost regressor"
   ]
  },
  {
   "cell_type": "code",
   "execution_count": null,
   "metadata": {},
   "outputs": [],
   "source": [
    "from datetime import datetime\n",
    "from pytz import timezone\n",
    "\n",
    "stop_time = int(datetime(2021, 3, 1, 0, 0, 0, 0, timezone('UTC')).timestamp() * 1000)\n",
    "start_time = stop_time - 3 * 60 * 60 * 1000 # load 3 hours of data\n",
    "\n",
    "# fetch chuncks of DataFrames and then concatenate them into a piece\n",
    "asset_data_itr = asset.data(start_time=start_time, stop_time=stop_time)\n",
    "df = pd.DataFrame()\n",
    "for next_df in asset_data_itr:\n",
    "    df = pd.concat([df, next_df])\n"
   ]
  },
  {
   "cell_type": "code",
   "execution_count": null,
   "metadata": {},
   "outputs": [],
   "source": [
    "target_col = 6825\n",
    "feature_cols = [6819, 6820, 6822, 6823, 6824]\n",
    "\n",
    "print(df)"
   ]
  },
  {
   "cell_type": "code",
   "execution_count": null,
   "metadata": {},
   "outputs": [],
   "source": [
    "def max_value_of_last_hour(row):\n",
    "    end_ts = row.name\n",
    "    start_ts = end_ts - pd.Timedelta(hours=1)\n",
    "    # Take the max values between row timestamp t and t - 1 hour\n",
    "    row = df_X[(df_X.index >= start_ts) & (df_X.index <= end_ts)].max()\n",
    "    row = row.rename(end_ts)\n",
    "    return row"
   ]
  },
  {
   "cell_type": "code",
   "execution_count": null,
   "metadata": {},
   "outputs": [],
   "source": [
    "# Preparing features for training regressor\n",
    "df_X = df[feature_cols]\n",
    "df_X = df_X.apply(max_value_of_last_hour, axis=1) # simple feature engineering step\n",
    "\n",
    "# target for training (single column dataframe)\n",
    "df_y = df[[target_col]]"
   ]
  },
  {
   "cell_type": "code",
   "execution_count": null,
   "metadata": {},
   "outputs": [],
   "source": [
    "import xgboost as xgb\n",
    "\n",
    "# Convert training data to the format that Xgboost can ingest\n",
    "dtrain = xgb.DMatrix(df_X, label=df_y)"
   ]
  },
  {
   "cell_type": "code",
   "execution_count": null,
   "metadata": {},
   "outputs": [],
   "source": [
    "# Parameters for regression model training\n",
    "num_round = 100\n",
    "param = {'max_depth': 100, 'eta': 0.2, 'objective': 'reg:squarederror'}\n",
    "param['nthread'] = 4\n",
    "param['eval_metric'] = 'mae'\n",
    "\n",
    "regressor = xgb.train(param, dtrain, num_round) # a dummy model\n",
    "print(regressor.predict(xgb.DMatrix(df_X))) # just to see if we can get any predictions"
   ]
  },
  {
   "cell_type": "code",
   "execution_count": null,
   "metadata": {},
   "outputs": [],
   "source": [
    "from quartic_sdk.model import BaseQuarticModel\n",
    "\n",
    "class XGBRegressor(BaseQuarticModel):\n",
    "    def __init__(self, name, description, log_level, model):\n",
    "        self.model = model\n",
    "        super().__init__(name=name, description=description, log_level=log_level)\n",
    "        \n",
    "    def predict(self, input_df: pd.DataFrame):\n",
    "        def max_value_of_last_hour(row):\n",
    "            end_ts = row.name\n",
    "            start_ts = end_ts - pd.Timedelta(hours=1)\n",
    "            # take the max values between row timestamp t and t - 1 hour\n",
    "            row = df_X[(df_X.index >= start_ts) & (df_X.index <= end_ts)].max()\n",
    "            row = row.rename(end_ts)\n",
    "            return row\n",
    "\n",
    "        self.log.info(\"Predicting...\")\n",
    "        input_df = input_df.apply(max_value_of_last_hour, axis=1)\n",
    "        y_preds = self.model.predict(xgb.DMatrix(input_df))\n",
    "        return pd.Series(y_preds)"
   ]
  },
  {
   "cell_type": "code",
   "execution_count": null,
   "metadata": {},
   "outputs": [],
   "source": [
    "xgb_reg_model = XGBRegressor(name=\"xgb_reg\",\n",
    "                             description=\"\",\n",
    "                             log_level=\"INFO\",\n",
    "                             model=regressor)\n",
    "\n",
    "xgb_reg_model.save(client=client, output_tag_name='xgb_reg', feature_tags=feature_cols, target_tag=target_col, test_df=df_X)"
   ]
  },
  {
   "cell_type": "markdown",
   "metadata": {},
   "source": [
    "## Train and deploy a XGBoost classifier"
   ]
  },
  {
   "cell_type": "code",
   "execution_count": null,
   "metadata": {},
   "outputs": [],
   "source": [
    "# Reuse the training set we prepared for the regressor\n",
    "# Modify the target for classifier trainining. \n",
    "df_y_binary = df_y.copy()\n",
    "# Dealing with binary class labels, one is -2 and the other is 2.\n",
    "# Convert two class labels to 0 and 1 respectively\n",
    "df_y_binary.loc[df_y[target_col] <= 0, target_col] = 0\n",
    "df_y_binary.loc[df_y[target_col] > 0, target_col] = 1\n",
    "\n",
    "# Convert training data to a format that Xgboost can ingest\n",
    "dtrain = xgb.DMatrix(df_X, label=df_y_binary)\n",
    "\n",
    "# Parameters for classification model training\n",
    "num_round = 100\n",
    "param = {'max_depth': 100, 'eta': 0.2, 'objective': 'binary:logistic'}\n",
    "param['nthread'] = 4\n",
    "param['eval_metric'] = 'mae'\n",
    "\n",
    "classifier = xgb.train(param, dtrain, num_round) # a dummy model\n",
    "preds = classifier.predict(xgb.DMatrix(df_X)) # Just to see if we can get any predictions\n",
    "\n",
    "# Convert probabilties back to the original class labels\n",
    "preds[preds >= 0.5] = 2\n",
    "preds[preds < 0.5] = -2\n",
    "print(preds)"
   ]
  },
  {
   "cell_type": "code",
   "execution_count": null,
   "metadata": {},
   "outputs": [],
   "source": [
    "from quartic_sdk.model import BaseQuarticModel\n",
    "\n",
    "class XGBClassifer(BaseQuarticModel):\n",
    "    def __init__(self, name, description, log_level, model):\n",
    "        self.model = model\n",
    "        super().__init__(name=name, description=description, log_level=log_level)\n",
    "        \n",
    "    def predict(self, input_df: pd.DataFrame):\n",
    "        def max_value_of_last_hour(row):\n",
    "            end_ts = row.name\n",
    "            start_ts = end_ts - pd.Timedelta(hours=1)\n",
    "            # take the max values between row timestamp t and t - 1 hour\n",
    "            row = df_X[(df_X.index >= start_ts) & (df_X.index <= end_ts)].max()\n",
    "            row = row.rename(end_ts)\n",
    "            return row\n",
    "\n",
    "        self.log.info(\"Predicting...\")\n",
    "        input_df = input_df.apply(max_value_of_last_hour, axis=1)\n",
    "        y_preds = self.model.predict(xgb.DMatrix(input_df))\n",
    "        \n",
    "        # convert probabilties back to the original class labels\n",
    "        preds[y_preds >= 0.5] = 2\n",
    "        preds[y_preds < 0.5] = -2\n",
    "        return pd.Series(y_preds)\n",
    "\n",
    "xgb_reg_model = XGBRegressor(name=\"xgb_classifier\",\n",
    "                             description=\"\",\n",
    "                             log_level=\"INFO\",\n",
    "                             model=regressor)\n",
    "\n",
    "xgb_reg_model.save(client=client, output_tag_name='xgb_classifier', feature_tags=feature_cols, target_tag=target_col, test_df=df_X)"
   ]
  },
  {
   "cell_type": "code",
   "execution_count": null,
   "metadata": {},
   "outputs": [],
   "source": []
  }
 ],
 "metadata": {
  "kernelspec": {
   "display_name": "ml_venv_3.8",
   "language": "python",
   "name": "ml_venv_3.8"
  },
  "language_info": {
   "codemirror_mode": {
    "name": "ipython",
    "version": 3
   },
   "file_extension": ".py",
   "mimetype": "text/x-python",
   "name": "python",
   "nbconvert_exporter": "python",
   "pygments_lexer": "ipython3",
   "version": "3.8.4"
  }
 },
 "nbformat": 4,
 "nbformat_minor": 2
}
