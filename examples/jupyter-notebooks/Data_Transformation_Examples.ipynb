{
 "cells": [
  {
   "cell_type": "code",
   "execution_count": null,
   "metadata": {},
   "outputs": [],
   "source": [
    "from quartic_sdk import APIClient\n",
    "from quartic_sdk.core.entity_helpers.entity_list import EntityList\n",
    "import os\n",
    "\n",
    "client = APIClient(os.environ.get('QUARTIC_HOST'), username=os.environ.get('QUARTIC_USERNAME'), password=os.environ.get('QUARTIC_PASSWORD'))\n",
    "assets=client.assets()\n",
    "asset=assets.get(\"id\", 938)"
   ]
  },
  {
   "cell_type": "code",
   "execution_count": 7,
   "metadata": {},
   "outputs": [
    {
     "name": "stdout",
     "output_type": "stream",
     "text": [
      "<EntityList: [<Tag: tag_1_45470>, <Tag: tag_2_45471>, <Tag: tag_3_45472>, <Tag: state_identifier_45473>, ]>\n",
      "                 45472  45470   45471\n",
      "1617711714000  70577.0   87.0  1583.0\n",
      "1617711715000  75064.0  583.0  7675.0\n",
      "1617711716000      NaN  880.0  3897.0\n",
      "1617711717000  51868.0  308.0  5022.0\n",
      "1617711718000  38784.0   54.0  3341.0\n",
      "...                ...    ...     ...\n",
      "1617717365000  89685.0  602.0  5503.0\n",
      "1617717366000  10055.0  803.0   360.0\n",
      "1617717367000   9760.0  998.0   763.0\n",
      "1617717368000  91154.0  148.0  4840.0\n",
      "1617717369000  47764.0   45.0  7920.0\n",
      "\n",
      "[5656 rows x 3 columns]\n"
     ]
    }
   ],
   "source": [
    "tags = asset.get_tags()\n",
    "print(tags[0:5])\n",
    "\n",
    "tag1 = tags.get(\"id\",45470)\n",
    "tag2 = tags.get(\"id\", 45471)\n",
    "tag3 = tags.get(\"id\", 45472)\n",
    "\n",
    "tag_list = EntityList(\"Tag\")\n",
    "tag_list.add(tag1)\n",
    "tag_list.add(tag2)\n",
    "tag_list.add(tag3)\n",
    "\n",
    "dt1 = tag_list.data(start_time=1617706969000, stop_time=1617717369000)\n",
    "print(dt1[0])\n"
   ]
  },
  {
   "cell_type": "code",
   "execution_count": 10,
   "metadata": {},
   "outputs": [
    {
     "name": "stdout",
     "output_type": "stream",
     "text": [
      "                 45472  45470   45471\n",
      "1617711714000  70577.0   87.0  1583.0\n",
      "1617711715000  75064.0  583.0  7675.0\n",
      "1617711716000  63466.0  880.0  3897.0\n",
      "1617711717000  51868.0  308.0  5022.0\n",
      "1617711718000  38784.0   54.0  3341.0\n",
      "...                ...    ...     ...\n",
      "1617717365000  89685.0  602.0  5503.0\n",
      "1617717366000  10055.0  803.0   360.0\n",
      "1617717367000   9760.0  998.0   763.0\n",
      "1617717368000  91154.0  148.0  4840.0\n",
      "1617717369000  47764.0   45.0  7920.0\n",
      "\n",
      "[5656 rows x 3 columns]\n"
     ]
    }
   ],
   "source": [
    "transformation=[{\n",
    "        \"transformation_type\": \"interpolation\",\n",
    "        \"column\": \"45472\",\n",
    "        \"method\": \"linear\"\n",
    "    }]\n",
    "dt2 = tag_list.data(start_time=1617706969000, stop_time=1617717369000, transformations=transformation)\n",
    "print(dt2[0])"
   ]
  },
  {
   "cell_type": "code",
   "execution_count": 13,
   "metadata": {},
   "outputs": [
    {
     "name": "stdout",
     "output_type": "stream",
     "text": [
      "                      45472  45470   45471\n",
      "1617711714000  70577.000000   87.0  1583.0\n",
      "1617711715000  75064.000000  583.0  7675.0\n",
      "1617711716000  70028.404921  880.0  3897.0\n",
      "1617711717000  51868.000000  308.0  5022.0\n",
      "1617711718000  38784.000000   54.0  3341.0\n",
      "...                     ...    ...     ...\n",
      "1617717365000  89685.000000  602.0  5503.0\n",
      "1617717366000  10055.000000  803.0   360.0\n",
      "1617717367000   9760.000000  998.0   763.0\n",
      "1617717368000  91154.000000  148.0  4840.0\n",
      "1617717369000  47764.000000   45.0  7920.0\n",
      "\n",
      "[5656 rows x 3 columns]\n"
     ]
    }
   ],
   "source": [
    "transformation=[{\n",
    "        \"transformation_type\": \"interpolation\",\n",
    "        \"column\": \"45472\",\n",
    "        \"method\": \"polynomial\",\n",
    "        \"order\": 3,\n",
    "        \"limit_direction\": \"backward\"\n",
    "    }]\n",
    "dt3 = tag_list.data(start_time=1617706969000, stop_time=1617717369000, transformations=transformation)\n",
    "print(dt3[0])"
   ]
  },
  {
   "cell_type": "code",
   "execution_count": 16,
   "metadata": {},
   "outputs": [
    {
     "name": "stdout",
     "output_type": "stream",
     "text": [
      "                      45472  45470   45471\n",
      "1617711714000  70577.000000   87.0  1583.0\n",
      "1617711715000  75064.000000  583.0  7675.0\n",
      "1617711716000  70028.404921  880.0  3897.0\n",
      "1617711717000  51868.000000  308.0  5022.0\n",
      "1617711718000  38784.000000   54.0  3341.0\n",
      "...                     ...    ...     ...\n",
      "1617717365000  89685.000000  602.0  5503.0\n",
      "1617717366000  10055.000000  803.0   360.0\n",
      "1617717367000   9760.000000  998.0   763.0\n",
      "1617717368000  91154.000000  148.0  4840.0\n",
      "1617717369000  47764.000000   45.0  7920.0\n",
      "\n",
      "[5656 rows x 3 columns]\n"
     ]
    }
   ],
   "source": [
    "transformation=[{\n",
    "        \"transformation_type\": \"interpolation\",\n",
    "        \"column\": \"45472\",\n",
    "        \"method\": \"cubic\",\n",
    "        \"order\": 2\n",
    "    },\n",
    "    {\n",
    "        \"transformation_type\": \"interpolation\",\n",
    "        \"column\": \"45470\",\n",
    "        \"method\": \"polynomial\",\n",
    "        \"order\": 3\n",
    "    },\n",
    "    {\n",
    "        \"transformation_type\": \"interpolation\",\n",
    "        \"column\": \"45471\",\n",
    "        \"method\": \"spline\",\n",
    "        \"order\": 2\n",
    "    }]\n",
    "dt4 = tag_list.data(start_time=1617706969000, stop_time=1617717369000, transformations=transformation)\n",
    "print(dt4[0])"
   ]
  },
  {
   "cell_type": "code",
   "execution_count": 19,
   "metadata": {},
   "outputs": [
    {
     "name": "stdout",
     "output_type": "stream",
     "text": [
      "     45470  45471  45472\n",
      "0        1  45404  97555\n",
      "1        2  42949  94207\n",
      "2        3  22248  78457\n",
      "3        4  54171  95878\n",
      "4        5  52149  83530\n",
      "..     ...    ...    ...\n",
      "992    995  22581  85112\n",
      "993    996  19453  74719\n",
      "994    997  25103  91515\n",
      "995    998   9431  96477\n",
      "996    999  28871  95267\n",
      "\n",
      "[997 rows x 3 columns]\n"
     ]
    }
   ],
   "source": [
    "transformation = [{\n",
    "        \"transformation_type\": \"aggregation\",\n",
    "        \"aggregation_column\": \"45470\",\n",
    "        \"aggregation_dict\": {\"45471\": \"sum\", \"45472\": \"max\"}\n",
    "    }]\n",
    "\n",
    "dt5 = tag_list.data(start_time=1617706969000, stop_time=1617717369000, transformations=transformation)\n",
    "print(dt5[0])"
   ]
  },
  {
   "cell_type": "code",
   "execution_count": 21,
   "metadata": {},
   "outputs": [
    {
     "name": "stdout",
     "output_type": "stream",
     "text": [
      "      45471    45472      45470\n",
      "0       100  76942.0        NaN\n",
      "1       106  44630.0        NaN\n",
      "2       114  29135.0        NaN\n",
      "3       115  56525.0        NaN\n",
      "4       118  85974.0        NaN\n",
      "...     ...      ...        ...\n",
      "4262   9991  65076.0        NaN\n",
      "4263   9992  68318.0        NaN\n",
      "4264   9993  48201.0  95.459415\n",
      "4265   9994  50550.0        NaN\n",
      "4266   9999  20416.0  72.831998\n",
      "\n",
      "[4267 rows x 3 columns]\n"
     ]
    }
   ],
   "source": [
    "transformation = [{\n",
    "        \"transformation_type\": \"interpolation\",\n",
    "        \"column\": \"45472\",\n",
    "        \"method\": \"spline\",\n",
    "        \"order\": 2\n",
    "    },\n",
    "    {\n",
    "        \"transformation_type\": \"aggregation\",\n",
    "        \"aggregation_column\": \"45471\",\n",
    "        \"aggregation_dict\": {\"45472\": \"max\",\"45470\": \"std\"}\n",
    "    }]\n",
    "\n",
    "dt6 = tag_list.data(start_time=1617706969000, stop_time=1617717369000, transformations=transformation)\n",
    "print(dt6[0])"
   ]
  }
 ],
 "metadata": {
  "kernelspec": {
   "display_name": "Python 3",
   "language": "python",
   "name": "python3"
  },
  "language_info": {
   "codemirror_mode": {
    "name": "ipython",
    "version": 3
   },
   "file_extension": ".py",
   "mimetype": "text/x-python",
   "name": "python",
   "nbconvert_exporter": "python",
   "pygments_lexer": "ipython3",
   "version": "3.8.5"
  }
 },
 "nbformat": 4,
 "nbformat_minor": 5
}
