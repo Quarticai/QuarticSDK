{
 "cells": [
  {
   "cell_type": "code",
   "execution_count": 2,
   "id": "175153c9",
   "metadata": {},
   "outputs": [],
   "source": [
    "from quartic_sdk import GraphqlClient\n",
    "from pprint import pprint\n",
    "\n",
    "class Client:\n",
    "\n",
    "    def __init__(self, url, username, password):\n",
    "        self._graphql_client = GraphqlClient(url=url,\n",
    "            username=username, password=password)\n",
    "\n",
    "    def graphql_client(self):\n",
    "        return self._graphql_client\n",
    "    \n",
    "    def get_country(self):\n",
    "        country_query = '''\n",
    "           query MyQuery {\n",
    "              Country {\n",
    "                id\n",
    "                name\n",
    "              }\n",
    "            }\n",
    "        '''\n",
    "        return self._graphql_client.execute_query(country_query)[\"data\"][\"Country\"]\n",
    "    \n",
    "    def get_state(self):\n",
    "        state_query = '''\n",
    "           query MyQuery {\n",
    "              State {\n",
    "                id\n",
    "                name\n",
    "              }\n",
    "            }\n",
    "        '''\n",
    "        return self._graphql_client.execute_query(state_query)['data']['State']\n",
    "    \n",
    "    def get_tag_measurements(self):\n",
    "        tag_measurements_query = '''\n",
    "           query MyQuery {\n",
    "              TagMeasurements {\n",
    "                id\n",
    "                name\n",
    "              }\n",
    "            }\n",
    "        '''\n",
    "        return self._graphql_client.execute_query(tag_measurements_query)['data']['TagMeasurements']"
   ]
  },
  {
   "cell_type": "code",
   "execution_count": 3,
   "id": "a333618e",
   "metadata": {},
   "outputs": [
    {
     "name": "stderr",
     "output_type": "stream",
     "text": [
      "\u001b[32m2022-12-03 13:30:10\u001b[0m \u001b[35mLAPTOP-BI53MUD2\u001b[0m \u001b[34masyncio[11588]\u001b[0m \u001b[1;30mDEBUG\u001b[0m \u001b[32mUsing selector: SelectSelector\u001b[0m\n"
     ]
    }
   ],
   "source": [
    "#making a Client object; add your username and password in second and third arguement respectively  \n",
    "client = Client(\"https://stag.quartic.ai\", \"dev123\", \"dev@quartic.ai\")"
   ]
  },
  {
   "cell_type": "code",
   "execution_count": 8,
   "id": "ad7b0c00",
   "metadata": {},
   "outputs": [
    {
     "name": "stderr",
     "output_type": "stream",
     "text": [
      "\u001b[32m2022-12-03 13:33:56\u001b[0m \u001b[35mLAPTOP-BI53MUD2\u001b[0m \u001b[34masyncio[11588]\u001b[0m \u001b[1;30mDEBUG\u001b[0m \u001b[32mUsing selector: SelectSelector\u001b[0m\n"
     ]
    },
    {
     "name": "stdout",
     "output_type": "stream",
     "text": [
      "{'data': {'EdgeNodeCreate': {'ok': False, 'errors': [{'field': 'id', 'messages': ['EdgeNode QLite can only have QFog, QRelay or QPro as parent node']}], 'edgedevice': None}}}\n"
     ]
    }
   ],
   "source": [
    "#the documentation way of doing it\n",
    "\n",
    "#define the function (Make sure to edit params as per the mutation)\n",
    "def create_edgeNode(client, deviceType, parent, site, name, ipAddress):\n",
    "    gql_mutation = \"\"\"\n",
    "    mutation MyMutation($deviceType: Int!, $parent: ID!, $site: ID!, $name: String!, $ipAddress: String!) {\n",
    "      EdgeNodeCreate(newEdgenode: {deviceType: $deviceType, parent: $parent, site: $site, name: $name, ipAddress: $ipAddress }) {\n",
    "        ok\n",
    "        errors {\n",
    "          field\n",
    "          messages\n",
    "        }\n",
    "        edgedevice {\n",
    "          id\n",
    "          name\n",
    "        }\n",
    "      }\n",
    "    }\n",
    "    \"\"\"\n",
    "    \n",
    "    return client.graphql_client().execute_query(gql_mutation,\n",
    "        {\"deviceType\": deviceType, \"parent\": parent, \"site\": site, \"name\": name, \"ipAddress\": ipAddress})\n",
    "\n",
    "#create the Edge Node\n",
    "edgeDevice = create_edgeNode(client, 2, 477, 28, \"EDGENAME\", \"13.64.110.169\")\n",
    "print(edgeDevice)"
   ]
  },
  {
   "cell_type": "code",
   "execution_count": null,
   "id": "a1512fcf",
   "metadata": {},
   "outputs": [],
   "source": [
    "#update the edgeNode\n",
    "def update_edgeNode(client, id, deviceType, parent, site, name, ipAddress):\n",
    "    gql_mutation = \"\"\"\n",
    "    mutation MyMutation($id: ID!, $deviceType: Int!, $parent: ID!, $site: ID!, $name: String!, $ipAddress: String!) {\n",
    "      EdgeNodeUpdate(updateEdgenode: {id: $id, deviceType: $deviceType, parent: $parent, site: $site, name: $name, ipAddress: $ipAddress }) {\n",
    "        ok\n",
    "        errors {\n",
    "          field\n",
    "          messages\n",
    "        }\n",
    "        edgedevice {\n",
    "          id\n",
    "          name\n",
    "        }\n",
    "      }\n",
    "    }\n",
    "    \"\"\"\n",
    "    \n",
    "    return client.graphql_client().execute_query(gql_mutation,\n",
    "        {\"id\": id, \"deviceType\": deviceType, \"parent\": parent, \"site\": site, \"name\": name, \"ipAddress\": ipAddress})\n",
    "\n",
    "#udpate the edgenode\n",
    "edgeNode2 = update_edgeNode(client, 12, 2, 477, 28, \"EDGENAME\", \"13.64.110.169\")\n",
    "print(edgeNode2)"
   ]
  }
 ],
 "metadata": {
  "kernelspec": {
   "display_name": "Python 3.9.5 64-bit",
   "language": "python",
   "name": "python3"
  },
  "language_info": {
   "codemirror_mode": {
    "name": "ipython",
    "version": 3
   },
   "file_extension": ".py",
   "mimetype": "text/x-python",
   "name": "python",
   "nbconvert_exporter": "python",
   "pygments_lexer": "ipython3",
   "version": "3.9.5"
  },
  "vscode": {
   "interpreter": {
    "hash": "337106965115825fccc92fb95944c976a76d4e8d94b9570da662635b0fff4598"
   }
  }
 },
 "nbformat": 4,
 "nbformat_minor": 5
}
