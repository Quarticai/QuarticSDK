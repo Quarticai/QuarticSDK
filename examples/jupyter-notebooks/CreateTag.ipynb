{
 "cells": [
  {
   "cell_type": "code",
   "execution_count": 1,
   "id": "91f099d2",
   "metadata": {},
   "outputs": [],
   "source": [
    "from quartic_sdk import GraphqlClient\n",
    "from pprint import pprint\n",
    "\n",
    "class Client:\n",
    "\n",
    "    def __init__(self, url, username, password):\n",
    "        self._graphql_client = GraphqlClient(url=url,\n",
    "            username=username, password=password)\n",
    "\n",
    "    def graphql_client(self):\n",
    "        return self._graphql_client\n",
    "    \n",
    "    def get_country(self):\n",
    "        country_query = '''\n",
    "           query MyQuery {\n",
    "              Country {\n",
    "                id\n",
    "                name\n",
    "              }\n",
    "            }\n",
    "        '''\n",
    "        return self._graphql_client.execute_query(country_query)[\"data\"][\"Country\"]\n",
    "    \n",
    "    def get_state(self):\n",
    "        state_query = '''\n",
    "           query MyQuery {\n",
    "              State {\n",
    "                id\n",
    "                name\n",
    "              }\n",
    "            }\n",
    "        '''\n",
    "        return self._graphql_client.execute_query(state_query)['data']['State']\n",
    "    \n",
    "    def get_tag_measurements(self):\n",
    "        tag_measurements_query = '''\n",
    "           query MyQuery {\n",
    "              TagMeasurements {\n",
    "                id\n",
    "                name\n",
    "              }\n",
    "            }\n",
    "        '''\n",
    "        return self._graphql_client.execute_query(tag_measurements_query)['data']['TagMeasurements']"
   ]
  },
  {
   "cell_type": "code",
   "execution_count": 2,
   "id": "2225125c",
   "metadata": {},
   "outputs": [
    {
     "name": "stderr",
     "output_type": "stream",
     "text": [
      "\u001b[32m2022-12-03 15:46:20\u001b[0m \u001b[35mLAPTOP-BI53MUD2\u001b[0m \u001b[34masyncio[24168]\u001b[0m \u001b[1;30mDEBUG\u001b[0m \u001b[32mUsing selector: SelectSelector\u001b[0m\n"
     ]
    }
   ],
   "source": [
    "#making a Client object; add your username and password in second and third arguement respectively  \n",
    "client = Client(\"https://stag.quartic.ai\", \"dev123\", \"dev@quartic.ai\")"
   ]
  },
  {
   "cell_type": "code",
   "execution_count": 6,
   "id": "7f1c7921",
   "metadata": {},
   "outputs": [
    {
     "name": "stderr",
     "output_type": "stream",
     "text": [
      "\u001b[32m2022-12-03 15:47:38\u001b[0m \u001b[35mLAPTOP-BI53MUD2\u001b[0m \u001b[34masyncio[24168]\u001b[0m \u001b[1;30mDEBUG\u001b[0m \u001b[32mUsing selector: SelectSelector\u001b[0m\n"
     ]
    },
    {
     "name": "stdout",
     "output_type": "stream",
     "text": [
      "{'data': {'TagCreate': {'ok': True, 'errors': None, 'tag': {'id': '74787', 'name': 'test_tag'}}}}\n"
     ]
    }
   ],
   "source": [
    "#the documentation way of doing it\n",
    "\n",
    "#define the function (Make sure to edit params as per the mutation)\n",
    "def create_tag(client, edgeConnector, tagType, name):\n",
    "    gql_mutation = \"\"\"\n",
    "    mutation MyMutation($edgeConnector: ID!, $tagType: TagTagTypeEnumCreate!, $name: String!) {\n",
    "      TagCreate(newTag: {edgeConnector: $edgeConnector, tagType: $tagType, name: $name}) {\n",
    "        ok\n",
    "        errors {\n",
    "          field\n",
    "          messages\n",
    "        }\n",
    "        tag {\n",
    "          id\n",
    "          name\n",
    "        }\n",
    "      }\n",
    "    }\n",
    "    \"\"\"\n",
    "    \n",
    "    return client.graphql_client().execute_query(gql_mutation,\n",
    "        {\"edgeConnector\": edgeConnector, \"tagType\": tagType, \"name\": name})\n",
    "\n",
    "#create the tag\n",
    "tag = create_tag(client, 903, \"A_1\", \"test_tag\")\n",
    "print(tag)"
   ]
  },
  {
   "cell_type": "code",
   "execution_count": null,
   "id": "cdaa58f3",
   "metadata": {},
   "outputs": [],
   "source": [
    "#udpate the tag\n",
    "\n",
    "def update_tag(client, edgeConnector, tagType, name):\n",
    "    gql_mutation = \"\"\"\n",
    "    mutation MyMutation($edgeConnector: ID!, $tagType: TagTagTypeEnumCreate!, $name: String!) {\n",
    "      TagUpdate(updateTag: {edgeConnector: $edgeConnector, tagType: $tagType, name: $name}) {\n",
    "        ok\n",
    "        errors {\n",
    "          field\n",
    "          messages\n",
    "        }\n",
    "        tag {\n",
    "          id\n",
    "          name\n",
    "        }\n",
    "      }\n",
    "    }\n",
    "    \"\"\"\n",
    "    \n",
    "    return client.graphql_client().execute_query(gql_mutation,\n",
    "        {\"edgeConnector\": edgeConnector, \"tagType\": tagType, \"name\": name})\n",
    "\n",
    "#create the tag\n",
    "tag = update_tag(client, 12, \"A_1\", \"test_tag\")\n",
    "print(tag)"
   ]
  }
 ],
 "metadata": {
  "kernelspec": {
   "display_name": "Python 3 (ipykernel)",
   "language": "python",
   "name": "python3"
  },
  "language_info": {
   "codemirror_mode": {
    "name": "ipython",
    "version": 3
   },
   "file_extension": ".py",
   "mimetype": "text/x-python",
   "name": "python",
   "nbconvert_exporter": "python",
   "pygments_lexer": "ipython3",
   "version": "3.9.5"
  }
 },
 "nbformat": 4,
 "nbformat_minor": 5
}
