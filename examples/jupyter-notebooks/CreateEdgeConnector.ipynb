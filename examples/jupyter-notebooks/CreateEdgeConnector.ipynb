{
 "cells": [
  {
   "cell_type": "code",
   "execution_count": null,
   "id": "b18e4e56",
   "metadata": {},
   "outputs": [],
   "source": [
    "from quartic_sdk import GraphqlClient\n",
    "from pprint import pprint\n",
    "\n",
    "class Client:\n",
    "\n",
    "    def __init__(self, url, username, password):\n",
    "        self._graphql_client = GraphqlClient(url=url,\n",
    "            username=username, password=password)\n",
    "\n",
    "    def graphql_client(self):\n",
    "        return self._graphql_client\n",
    "    \n",
    "    def get_country(self):\n",
    "        country_query = '''\n",
    "           query MyQuery {\n",
    "              Country {\n",
    "                id\n",
    "                name\n",
    "              }\n",
    "            }\n",
    "        '''\n",
    "        return self._graphql_client.execute_query(country_query)[\"data\"][\"Country\"]\n",
    "    \n",
    "    def get_state(self):\n",
    "        state_query = '''\n",
    "           query MyQuery {\n",
    "              State {\n",
    "                id\n",
    "                name\n",
    "              }\n",
    "            }\n",
    "        '''\n",
    "        return self._graphql_client.execute_query(state_query)['data']['State']\n",
    "    \n",
    "    def get_tag_measurements(self):\n",
    "        tag_measurements_query = '''\n",
    "           query MyQuery {\n",
    "              TagMeasurements {\n",
    "                id\n",
    "                name\n",
    "              }\n",
    "            }\n",
    "        '''\n",
    "        return self._graphql_client.execute_query(tag_measurements_query)['data']['TagMeasurements']"
   ]
  },
  {
   "cell_type": "code",
   "execution_count": null,
   "id": "f3e30f08",
   "metadata": {},
   "outputs": [],
   "source": [
    "#making a Client object; add your username and password in second and third arguement respectively  \n",
    "client = Client(\"https://stag.quartic.ai\", \"dev123\", \"dev@quartic.ai\")"
   ]
  },
  {
   "cell_type": "code",
   "execution_count": null,
   "id": "c99e2410",
   "metadata": {},
   "outputs": [],
   "source": [
    "#the documentation way of doing it\n",
    "\n",
    "#define the function (Make sure to edit params as per the mutation)\n",
    "def create_edgeConnector(client, edgeDevice, connectorProtocol, name, config):\n",
    "    gql_mutation = \"\"\"\n",
    "    mutation MyMutation($edgeDevice: ID!, $connectorProtocol: Int!, $name: String!, $config: CustomDict!) {\n",
    "      EdgeconnectorCreate(newEdgeconnector: {edgeDevice: $edgeDevice, connectorProtocol: $connectorProtocol, name: $name, config: $config }) {\n",
    "        ok\n",
    "        errors {\n",
    "          field\n",
    "          messages\n",
    "        }\n",
    "        edgeconnector {\n",
    "          id\n",
    "          name\n",
    "        }\n",
    "      }\n",
    "    }\n",
    "    \"\"\"\n",
    "    \n",
    "    return client.graphql_client().execute_query(gql_mutation,\n",
    "        {\"edgeDevice\": edgeDevice, \"connectorProtocol\": connectorProtocol, \"name\": name, \"config\": config})\n",
    "\n",
    "#create the Edge Node\n",
    "edgeConnector = create_edgeConnector(client, ...)\n",
    "print(edgeConnector)"
   ]
  },
  {
   "cell_type": "code",
   "execution_count": 1,
   "id": "07293fca",
   "metadata": {},
   "outputs": [
    {
     "ename": "NameError",
     "evalue": "name 'create_edgeConnector' is not defined",
     "output_type": "error",
     "traceback": [
      "\u001b[1;31m---------------------------------------------------------------------------\u001b[0m",
      "\u001b[1;31mNameError\u001b[0m                                 Traceback (most recent call last)",
      "Cell \u001b[1;32mIn [1], line 23\u001b[0m\n\u001b[0;32m     19\u001b[0m     \u001b[38;5;28;01mreturn\u001b[39;00m client\u001b[38;5;241m.\u001b[39mgraphql_client()\u001b[38;5;241m.\u001b[39mexecute_query(gql_mutation,\n\u001b[0;32m     20\u001b[0m         {\u001b[38;5;124m\"\u001b[39m\u001b[38;5;124mid\u001b[39m\u001b[38;5;124m\"\u001b[39m: \u001b[38;5;28mid\u001b[39m, \u001b[38;5;124m\"\u001b[39m\u001b[38;5;124medgeDevice\u001b[39m\u001b[38;5;124m\"\u001b[39m: edgeDevice, \u001b[38;5;124m\"\u001b[39m\u001b[38;5;124mconnectorProtocol\u001b[39m\u001b[38;5;124m\"\u001b[39m: connectorProtocol, \u001b[38;5;124m\"\u001b[39m\u001b[38;5;124mname\u001b[39m\u001b[38;5;124m\"\u001b[39m: name, \u001b[38;5;124m\"\u001b[39m\u001b[38;5;124mconfig\u001b[39m\u001b[38;5;124m\"\u001b[39m: config})\n\u001b[0;32m     22\u001b[0m \u001b[38;5;66;03m#update the Edgeconnector\u001b[39;00m\n\u001b[1;32m---> 23\u001b[0m edgeConnector \u001b[38;5;241m=\u001b[39m \u001b[43mcreate_edgeConnector\u001b[49m(client, \u001b[38;5;241m.\u001b[39m\u001b[38;5;241m.\u001b[39m\u001b[38;5;241m.\u001b[39m)\n\u001b[0;32m     24\u001b[0m \u001b[38;5;28mprint\u001b[39m(edgeConnector)\n",
      "\u001b[1;31mNameError\u001b[0m: name 'create_edgeConnector' is not defined"
     ]
    }
   ],
   "source": [
    "#update the Edgeconnector\n",
    "def update_edgeConnector(client, id, edgeDevice, connectorProtocol, name, config):\n",
    "    gql_mutation = \"\"\"\n",
    "    mutation MyMutation($id: ID!, $edgeDevice: ID!, $connectorProtocol: Int!, $name: String!, $config: CustomDict!) {\n",
    "      EdgeconnectorUpdate(updateEdgeconnector: {id: $id, edgeDevice: $edgeDevice, connectorProtocol: $connectorProtocol, name: $name, config: $config }) {\n",
    "        ok\n",
    "        errors {\n",
    "          field\n",
    "          messages\n",
    "        }\n",
    "        edgeconnector {\n",
    "          id\n",
    "          name\n",
    "        }\n",
    "      }\n",
    "    }\n",
    "    \"\"\"\n",
    "    \n",
    "    return client.graphql_client().execute_query(gql_mutation,\n",
    "        {\"id\": id, \"edgeDevice\": edgeDevice, \"connectorProtocol\": connectorProtocol, \"name\": name, \"config\": config})\n",
    "\n",
    "#update the Edgeconnector\n",
    "edgeConnector = update_edgeConnector(client, ...)\n",
    "print(edgeConnector)"
   ]
  },
  {
   "cell_type": "code",
   "execution_count": null,
   "id": "4846fd49",
   "metadata": {},
   "outputs": [],
   "source": []
  }
 ],
 "metadata": {
  "kernelspec": {
   "display_name": "Python 3.9.5 64-bit",
   "language": "python",
   "name": "python3"
  },
  "language_info": {
   "codemirror_mode": {
    "name": "ipython",
    "version": 3
   },
   "file_extension": ".py",
   "mimetype": "text/x-python",
   "name": "python",
   "nbconvert_exporter": "python",
   "pygments_lexer": "ipython3",
   "version": "3.9.5"
  },
  "vscode": {
   "interpreter": {
    "hash": "337106965115825fccc92fb95944c976a76d4e8d94b9570da662635b0fff4598"
   }
  }
 },
 "nbformat": 4,
 "nbformat_minor": 5
}
