{
 "cells": [
  {
   "cell_type": "code",
   "execution_count": null,
   "id": "chicken-toolbox",
   "metadata": {},
   "outputs": [],
   "source": [
    "from quartic_sdk import APIClient\n",
    "import pandas as pd\n",
    "from sklearn.decomposition import PCA"
   ]
  },
  {
   "cell_type": "code",
   "execution_count": null,
   "id": "aerial-actress",
   "metadata": {},
   "outputs": [],
   "source": [
    "# intialize a Quartic Platform API client\n",
    "client = APIClient(host='https://qa.quartic.ai', \n",
    "                   username='Prathik', \n",
    "                   password='Prathik1')\n",
    "\n",
    "# query asset\n",
    "assets = client.assets()\n",
    "asset = assets.get(\"name\", \"Asset Cont replay 01\")"
   ]
  },
  {
   "cell_type": "code",
   "execution_count": null,
   "id": "crazy-allen",
   "metadata": {
    "scrolled": true
   },
   "outputs": [],
   "source": [
    "from datetime import datetime\n",
    "from pytz import timezone\n",
    "\n",
    "stop_time = int(datetime.now().timestamp() * 1000) # get current time in millisec unix timestamp\n",
    "start_time = stop_time - 30 * 60 * 1000 # timestamp 30 mins ago\n",
    "\n",
    "# fetch chuncks of DataFrames and then concatenate them into a piece\n",
    "asset_data_itr = asset.data(start_time=start_time, stop_time=stop_time)\n",
    "df = pd.DataFrame()\n",
    "for next_df in asset_data_itr:\n",
    "    df = pd.concat([df, next_df])\n",
    "    \n",
    "df"
   ]
  },
  {
   "cell_type": "code",
   "execution_count": null,
   "id": "automotive-recipe",
   "metadata": {},
   "outputs": [],
   "source": [
    "target_col = \"39543\"\n",
    "feature_cols = [\"39553\", \"39554\", \"39555\", \"39556\", \"39557\", \"39558\"]\n",
    "df_X = df[feature_cols]\n",
    "df_y = df[[target_col]]\n",
    "y = df_y.to_numpy()"
   ]
  },
  {
   "cell_type": "code",
   "execution_count": null,
   "id": "beginning-hebrew",
   "metadata": {},
   "outputs": [],
   "source": [
    "class DataframeFunctionTransformer():\n",
    "    def __init__(self):\n",
    "        self.func = self.process_df\n",
    "\n",
    "    def transform(self, input_df, **transform_params):\n",
    "        return self.func(input_df)\n",
    "\n",
    "    def fit(self, X, y=None, **fit_params):\n",
    "        return self\n",
    "    \n",
    "    @staticmethod\n",
    "    def max_value_of_last_hour(row):\n",
    "        end_ts = row.name\n",
    "        start_ts = end_ts - 60 * 60 * 1000  # last hour\n",
    "        # Take the max values between row timestamp t and t - 1 hour\n",
    "        row = df_X[(df_X.index >= start_ts) & (df_X.index <= end_ts)].max()\n",
    "        row = row.rename(end_ts)\n",
    "        return row\n",
    "\n",
    "    @classmethod\n",
    "    def process_df(cls, df):\n",
    "        return df.apply(cls.max_value_of_last_hour, axis=1)"
   ]
  },
  {
   "cell_type": "code",
   "execution_count": null,
   "id": "elder-expression",
   "metadata": {},
   "outputs": [],
   "source": [
    "from sklearn.pipeline import Pipeline\n",
    "from sklearn.preprocessing import StandardScaler\n",
    "\n",
    "# define a pipeline which contains three steps\n",
    "pipe = Pipeline([\n",
    "    ('max_of_last_hour', DataframeFunctionTransformer()),\n",
    "    ('scaler', StandardScaler()),\n",
    "    ('pca', PCA(n_components=2, random_state=123))\n",
    "]).fit(df_X)\n",
    "\n",
    "X_pca = pipe.transform(df_X)"
   ]
  },
  {
   "cell_type": "code",
   "execution_count": null,
   "id": "fitting-monroe",
   "metadata": {},
   "outputs": [],
   "source": [
    "# apply processed data to a linear reg model\n",
    "from sklearn.linear_model import LinearRegression\n",
    "\n",
    "reg = LinearRegression().fit(X_pca, y)\n",
    "preds = reg.predict(X_pca)\n",
    "res = preds.flatten()\n",
    "\n",
    "import matplotlib.pyplot as plt\n",
    "plt.plot(res)"
   ]
  },
  {
   "cell_type": "code",
   "execution_count": null,
   "id": "specialized-career",
   "metadata": {},
   "outputs": [],
   "source": [
    "from quartic_sdk.model import BaseQuarticModel\n",
    "\n",
    "class LinearRegressionModel(BaseQuarticModel):\n",
    "    def __init__(self, name, description, log_level, model, pipe):\n",
    "        self.model = model\n",
    "        self.pipe = pipe\n",
    "        super().__init__(name=name, description=description, log_level=log_level)\n",
    "        \n",
    "    def predict(self, input_df: pd.DataFrame):\n",
    "        self.log.info(\"Predicting...\")\n",
    "        X_pca = self.pipe.transform(input_df)\n",
    "        y_preds = self.model.predict(X_pca)\n",
    "        return pd.Series(y_preds.flatten())\n",
    "\n",
    "lr_pca_model = LinearRegressionModel(name=\"lr_by_pipe\",\n",
    "                                     description=\"model trained with pipeline\",\n",
    "                                     log_level=\"INFO\",\n",
    "                                     model=reg,\n",
    "                                     pipe=pipe)\n",
    "\n",
    "lr_pca_model.save(client=client, \n",
    "                  output_tag_name='lr_by_pipe', \n",
    "                  feature_tags=feature_cols, \n",
    "                  target_tag=target_col, \n",
    "                  test_df=df_X)"
   ]
  },
  {
   "cell_type": "code",
   "execution_count": null,
   "id": "elementary-intent",
   "metadata": {},
   "outputs": [],
   "source": []
  }
 ],
 "metadata": {
  "kernelspec": {
   "display_name": "Python 3",
   "language": "python",
   "name": "python3"
  },
  "language_info": {
   "codemirror_mode": {
    "name": "ipython",
    "version": 3
   },
   "file_extension": ".py",
   "mimetype": "text/x-python",
   "name": "python",
   "nbconvert_exporter": "python",
   "pygments_lexer": "ipython3",
   "version": "3.6.9"
  }
 },
 "nbformat": 4,
 "nbformat_minor": 5
}
