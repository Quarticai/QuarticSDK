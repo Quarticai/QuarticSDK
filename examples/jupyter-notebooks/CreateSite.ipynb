{
 "cells": [
  {
   "cell_type": "code",
   "execution_count": 23,
   "id": "7c79fd6d",
   "metadata": {},
   "outputs": [],
   "source": [
    "from quartic_sdk import GraphqlClient\n",
    "from pprint import pprint\n",
    "\n",
    "class Client:\n",
    "\n",
    "    def __init__(self, url, username, password):\n",
    "        self._graphql_client = GraphqlClient(url=url,\n",
    "            username=username, password=password)\n",
    "\n",
    "    def graphql_client(self):\n",
    "        return self._graphql_client\n",
    "    \n",
    "    def get_country(self):\n",
    "        country_query = '''\n",
    "           query MyQuery {\n",
    "              Country {\n",
    "                id\n",
    "                name\n",
    "              }\n",
    "            }\n",
    "        '''\n",
    "        return self._graphql_client.execute_query(country_query)[\"data\"][\"Country\"]\n",
    "    \n",
    "    def get_state(self):\n",
    "        state_query = '''\n",
    "           query MyQuery {\n",
    "              State {\n",
    "                id\n",
    "                name\n",
    "              }\n",
    "            }\n",
    "        '''\n",
    "        return self._graphql_client.execute_query(state_query)['data']['State']\n",
    "    \n",
    "    def get_tag_measurements(self):\n",
    "        tag_measurements_query = '''\n",
    "           query MyQuery {\n",
    "              TagMeasurements {\n",
    "                id\n",
    "                name\n",
    "              }\n",
    "            }\n",
    "        '''\n",
    "        return self._graphql_client.execute_query(tag_measurements_query)['data']['TagMeasurements']"
   ]
  },
  {
   "cell_type": "code",
   "execution_count": 24,
   "id": "1b8abd13",
   "metadata": {},
   "outputs": [
    {
     "name": "stderr",
     "output_type": "stream",
     "text": [
      "\u001b[32m2022-12-03 10:35:25\u001b[0m \u001b[35mLAPTOP-BI53MUD2\u001b[0m \u001b[34masyncio[9000]\u001b[0m \u001b[1;30mDEBUG\u001b[0m \u001b[32mUsing selector: SelectSelector\u001b[0m\n"
     ]
    }
   ],
   "source": [
    "#making a Client object; add your username and password in second and third arguement respectively  \n",
    "client = Client(\"https://stag.quartic.ai\", \"dev123\", \"dev@quartic.ai\")"
   ]
  },
  {
   "cell_type": "code",
   "execution_count": 29,
   "id": "69fb5569",
   "metadata": {},
   "outputs": [
    {
     "name": "stderr",
     "output_type": "stream",
     "text": [
      "\u001b[32m2022-12-03 12:08:57\u001b[0m \u001b[35mLAPTOP-BI53MUD2\u001b[0m \u001b[34masyncio[9000]\u001b[0m \u001b[1;30mDEBUG\u001b[0m \u001b[32mUsing selector: SelectSelector\u001b[0m\n"
     ]
    },
    {
     "name": "stdout",
     "output_type": "stream",
     "text": [
      "{'data': {'__typename': 'MutationHolder', 'SiteCreate': {'ok': True, 'site': {'id': '31', 'name': 'testSite'}, 'errors': None}}}\n"
     ]
    }
   ],
   "source": [
    "\n",
    "#add the mutation schema\n",
    "site_mutation = lambda country, state, pinCode, addressLine1, name : f'''\n",
    "    mutation MyMutation {{\n",
    "    __typename\n",
    "        SiteCreate(newSite: {{country: {country}, state: {state}, pinCode: \"{pinCode}\", addressLine1: \"{addressLine1}\", name: \"{name}\"}}) {{\n",
    "            ok\n",
    "            site {{\n",
    "            id\n",
    "            name\n",
    "            }}\n",
    "            errors {{\n",
    "            messages\n",
    "            field\n",
    "            }}\n",
    "        }}\n",
    "    }}\n",
    "'''\n",
    "\n",
    "#define the function (Make sure to edit params as per the mutation)\n",
    "def create_site(client, country, state, pinCode, addressLine1, name):\n",
    "    mutation = site_mutation(country, state, pinCode, addressLine1, name)\n",
    "    return client.graphql_client().execute_query(mutation)\n",
    "\n",
    "#create the site\n",
    "site = create_site(client, 10, 181, \"123456\", \"test_address\", \"testSite\")\n",
    "print(site)\n",
    "    "
   ]
  },
  {
   "cell_type": "code",
   "execution_count": 34,
   "id": "1f604529",
   "metadata": {},
   "outputs": [
    {
     "name": "stderr",
     "output_type": "stream",
     "text": [
      "\u001b[32m2022-12-03 12:23:55\u001b[0m \u001b[35mLAPTOP-BI53MUD2\u001b[0m \u001b[34masyncio[9000]\u001b[0m \u001b[1;30mDEBUG\u001b[0m \u001b[32mUsing selector: SelectSelector\u001b[0m\n"
     ]
    },
    {
     "name": "stdout",
     "output_type": "stream",
     "text": [
      "{'data': {'SiteCreate': {'ok': True, 'errors': None, 'site': {'id': '32', 'name': 'testSite2'}}}}\n"
     ]
    }
   ],
   "source": [
    "#the documentation way of doing it\n",
    "\n",
    "#define the function (Make sure to edit params as per the mutation)\n",
    "def create_site2(client, country, state, pinCode, addressLine1, name):\n",
    "    gql_mutation = \"\"\"\n",
    "    mutation MyMutation($country: ID!, $state: ID!, $pinCode: String!, $addressLine1: String! $name: String!) {\n",
    "      SiteCreate(newSite: {country: $country, state: $state, pinCode: $pinCode, addressLine1: $addressLine1, name: $name }) {\n",
    "        ok\n",
    "        errors {\n",
    "          field\n",
    "          messages\n",
    "        }\n",
    "        site {\n",
    "          id\n",
    "          name\n",
    "        }\n",
    "      }\n",
    "    }\n",
    "    \"\"\"\n",
    "    \n",
    "    return client.graphql_client().execute_query(gql_mutation,\n",
    "        {\"country\": country, \"state\": state, \"pinCode\": pinCode, \"addressLine1\": addressLine1, \"name\": name})\n",
    "\n",
    "#create the site\n",
    "site2 = create_site2(client, 10, 181, \"123456\", \"test_address\", \"testSite2\")\n",
    "print(site2)"
   ]
  },
  {
   "cell_type": "code",
   "execution_count": 38,
   "id": "333407e3",
   "metadata": {},
   "outputs": [
    {
     "name": "stderr",
     "output_type": "stream",
     "text": [
      "\u001b[32m2022-12-03 15:02:08\u001b[0m \u001b[35mLAPTOP-BI53MUD2\u001b[0m \u001b[34masyncio[9000]\u001b[0m \u001b[1;30mDEBUG\u001b[0m \u001b[32mUsing selector: SelectSelector\u001b[0m\n"
     ]
    },
    {
     "name": "stdout",
     "output_type": "stream",
     "text": [
      "{'data': {'SiteUpdate': {'ok': True, 'errors': None, 'site': {'id': '28', 'name': 'testSite2'}}}}\n"
     ]
    }
   ],
   "source": [
    "#update the site\n",
    "def update_site(client, id, country, state, pinCode, addressLine1, name):\n",
    "    gql_mutation = \"\"\"\n",
    "    mutation MyMutation($id: ID!, $country: ID!, $state: ID!, $pinCode: String!, $addressLine1: String! $name: String!) {\n",
    "      SiteUpdate(updateSite: {id: $id, country: $country, state: $state, pinCode: $pinCode, addressLine1: $addressLine1, name: $name }) {\n",
    "        ok\n",
    "        errors {\n",
    "          field\n",
    "          messages\n",
    "        }\n",
    "        site {\n",
    "          id\n",
    "          name\n",
    "        }\n",
    "      }\n",
    "    }\n",
    "    \"\"\"\n",
    "    \n",
    "    return client.graphql_client().execute_query(gql_mutation,\n",
    "        {\"id\": id, \"country\": country, \"state\": state, \"pinCode\": pinCode, \"addressLine1\": addressLine1, \"name\": name})\n",
    "\n",
    "#create the site\n",
    "site3 = update_site(client, 28, 10, 181, \"000456\", \"testupdate_address\", \"testSite2\")\n",
    "print(site3)"
   ]
  },
  {
   "cell_type": "code",
   "execution_count": null,
   "id": "5337e125",
   "metadata": {},
   "outputs": [],
   "source": []
  }
 ],
 "metadata": {
  "kernelspec": {
   "display_name": "Python 3 (ipykernel)",
   "language": "python",
   "name": "python3"
  },
  "language_info": {
   "codemirror_mode": {
    "name": "ipython",
    "version": 3
   },
   "file_extension": ".py",
   "mimetype": "text/x-python",
   "name": "python",
   "nbconvert_exporter": "python",
   "pygments_lexer": "ipython3",
   "version": "3.9.5"
  }
 },
 "nbformat": 4,
 "nbformat_minor": 5
}
