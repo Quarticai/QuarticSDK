{
 "cells": [
  {
   "cell_type": "code",
   "execution_count": 1,
   "id": "4bb042da",
   "metadata": {},
   "outputs": [],
   "source": [
    "from quartic_sdk import APIClient\n",
    "import pandas as pd\n",
    "from datetime import datetime\n",
    "from pytz import timezone\n",
    "import xgboost as xgb"
   ]
  },
  {
   "cell_type": "code",
   "execution_count": 2,
   "id": "35b0f152",
   "metadata": {},
   "outputs": [],
   "source": [
    "client = APIClient(\"https://demo.quartic.ai/\",\n",
    "                   username=\"aniket@demo.quartic.ai\",\n",
    "                   password=\"aniketdemo123!\")"
   ]
  },
  {
   "cell_type": "code",
   "execution_count": 3,
   "id": "52283ca7",
   "metadata": {},
   "outputs": [],
   "source": [
    "assets = client.assets()"
   ]
  },
  {
   "cell_type": "code",
   "execution_count": 4,
   "id": "141999eb",
   "metadata": {},
   "outputs": [],
   "source": [
    "asset = assets.get(\"name\", \"15000 L Bioreactor\")\n",
    "asset_tags = client.tags(asset_id=asset.id)"
   ]
  },
  {
   "cell_type": "markdown",
   "id": "de2a8aba",
   "metadata": {},
   "source": [
    "# Train an Xgboost Classifier\n"
   ]
  },
  {
   "cell_type": "code",
   "execution_count": 37,
   "id": "9a412e56",
   "metadata": {},
   "outputs": [],
   "source": [
    "# training set Jan 1st 2019 to May 30th 2019 \n",
    "\n",
    "start_time = int(datetime(2019, 1, 1, 0, 0, 0, 0, timezone('UTC')).timestamp() * 1000)\n",
    "stop_time = int(datetime(2019, 5, 3, 23, 0, 0, 0, timezone('UTC')).timestamp() * 1000)\n",
    "\n",
    "asset_data_itr = asset.data(start_time=start_time, stop_time=stop_time)\n",
    "df = pd.DataFrame()\n",
    "for next_df in asset_data_itr:\n",
    "    df = pd.concat([df, next_df])"
   ]
  },
  {
   "cell_type": "code",
   "execution_count": 38,
   "id": "76f234b6",
   "metadata": {},
   "outputs": [
    {
     "data": {
      "text/plain": [
       "Index(['24971', '25038', '25039', '24923', '24924', '24795', '24796', '24797',\n",
       "       '24798', '24799', '24800', '24801', '24802', '24803', '24804', '24805',\n",
       "       '24806', '24807', '24808', '24809', '24810', '24811', '24812', '24813',\n",
       "       '24814', '24815', '24816'],\n",
       "      dtype='object')"
      ]
     },
     "execution_count": 38,
     "metadata": {},
     "output_type": "execute_result"
    }
   ],
   "source": [
    "df.columns\n",
    "#24797 -> Batch phase\n",
    "#24799 -> Vessel Temperature\n"
   ]
  },
  {
   "cell_type": "code",
   "execution_count": 39,
   "id": "e7786fcd",
   "metadata": {},
   "outputs": [],
   "source": [
    "def label_temperature(row):\n",
    "    if row[\"24797\"] == 5 and row[\"24799\"] > 36.3:\n",
    "        return 1\n",
    "    else:\n",
    "        return 0\n",
    "    \n",
    "df[\"target\"] = df.apply (lambda row: label_temperature(row), axis=1)"
   ]
  },
  {
   "cell_type": "code",
   "execution_count": 111,
   "id": "353bbe4f",
   "metadata": {},
   "outputs": [],
   "source": [
    "target_col = \"target\"\n",
    "feature_cols = [col for col in df.columns if col != \"target\"]\n"
   ]
  },
  {
   "cell_type": "code",
   "execution_count": 41,
   "id": "ca5b6b9a",
   "metadata": {},
   "outputs": [],
   "source": [
    "df_X = df[feature_cols]\n",
    "df_y = df[[target_col]]\n",
    "dtrain = xgb.DMatrix(df_X, label=df_y)\n",
    "\n",
    "num_round = 100\n",
    "param = {'max_depth': 100, 'eta': 0.2, 'objective': 'binary:logistic'}\n",
    "param['nthread'] = 4\n",
    "param['eval_metric'] = 'mae'\n",
    "\n",
    "classifier = xgb.train(param, dtrain, num_round)"
   ]
  },
  {
   "cell_type": "markdown",
   "id": "40309c6f",
   "metadata": {},
   "source": [
    "# Testing trained model"
   ]
  },
  {
   "cell_type": "code",
   "execution_count": 124,
   "id": "7a11bdc4",
   "metadata": {},
   "outputs": [],
   "source": [
    "# testing set June 1st 2019 to September 30th 2019 \n",
    "\n",
    "start_time_test = int(datetime(2019, 6, 1, 0, 0, 0, 0, timezone('UTC')).timestamp() * 1000)\n",
    "stop_time_test = int(datetime(2019, 9, 30, 23, 0, 0, 0, timezone('UTC')).timestamp() * 1000)\n",
    "\n",
    "asset_data_itr_test = asset.data(start_time=start_time_test, stop_time=stop_time_test)\n",
    "df_test = pd.DataFrame()\n",
    "for next_df in asset_data_itr_test:\n",
    "    df_test = pd.concat([df_test, next_df])"
   ]
  },
  {
   "cell_type": "code",
   "execution_count": 125,
   "id": "c1fd3e5b",
   "metadata": {},
   "outputs": [],
   "source": [
    "preds = classifier.predict(xgb.DMatrix(df_test))\n",
    "\n",
    "# Convert probabilties back to the original class labels\n",
    "preds[preds >= 0.5] = 1\n",
    "preds[preds < 0.5] = 0\n",
    "prob_to_label_pred = pd.Series(preds)"
   ]
  },
  {
   "cell_type": "markdown",
   "id": "1727910d",
   "metadata": {},
   "source": [
    "# Precision"
   ]
  },
  {
   "cell_type": "code",
   "execution_count": 126,
   "id": "61df4382",
   "metadata": {},
   "outputs": [
    {
     "data": {
      "text/plain": [
       "0.9988896797153025"
      ]
     },
     "execution_count": 126,
     "metadata": {},
     "output_type": "execute_result"
    }
   ],
   "source": [
    "df_test[\"pred\"] = list(prob_to_label_pred)\n",
    "df_test[\"target\"] = df_test.apply (lambda row: label_temperature(row), axis=1)\n",
    "(len(df_test) - len(df_test[[\"pred\", \"target\"]][df_test[\"pred\"] != df_test[\"target\"]]))/len(df_test)"
   ]
  },
  {
   "cell_type": "code",
   "execution_count": null,
   "id": "c43774cd",
   "metadata": {},
   "outputs": [],
   "source": []
  }
 ],
 "metadata": {
  "kernelspec": {
   "display_name": "venv",
   "language": "python",
   "name": "venv"
  },
  "language_info": {
   "codemirror_mode": {
    "name": "ipython",
    "version": 3
   },
   "file_extension": ".py",
   "mimetype": "text/x-python",
   "name": "python",
   "nbconvert_exporter": "python",
   "pygments_lexer": "ipython3",
   "version": "3.8.2"
  }
 },
 "nbformat": 4,
 "nbformat_minor": 5
}
