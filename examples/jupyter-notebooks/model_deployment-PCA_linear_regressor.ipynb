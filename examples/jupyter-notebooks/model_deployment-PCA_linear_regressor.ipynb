{
 "cells": [
  {
   "cell_type": "code",
   "execution_count": null,
   "metadata": {},
   "outputs": [],
   "source": [
    "from quartic_sdk import APIClient\n",
    "import pandas as pd\n",
    "from sklearn.decomposition import PCA\n",
    "from sklearn.linear_model import LinearRegression"
   ]
  },
  {
   "cell_type": "code",
   "execution_count": null,
   "metadata": {},
   "outputs": [],
   "source": [
    "# intialize a Quartic Platform API client  \n",
    "client = APIClient(host='https://qa.quartic.ai', username='Prathik', password='Prathik1')"
   ]
  },
  {
   "cell_type": "code",
   "execution_count": null,
   "metadata": {},
   "outputs": [],
   "source": [
    "assets = client.assets()"
   ]
  },
  {
   "cell_type": "code",
   "execution_count": null,
   "metadata": {},
   "outputs": [],
   "source": [
    "asset = assets.get(\"name\", \"Asset Cont replay 01\")\n",
    "asset_tags = client.tags(asset_id=asset.id)"
   ]
  },
  {
   "cell_type": "code",
   "execution_count": null,
   "metadata": {},
   "outputs": [],
   "source": [
    "from datetime import datetime\n",
    "\n",
    "stop_time = int(datetime.now().timestamp() * 1000) # get current time in millisec unix timestamp\n",
    "start_time = stop_time - 30 * 60 * 1000 # timestamp 30 mins ago\n",
    "asset_data_itr = asset.data(start_time=start_time, stop_time=stop_time)\n",
    "\n",
    "df = pd.DataFrame()\n",
    "for next_df in asset_data_itr:\n",
    "    df = pd.concat([df, next_df])\n",
    "df"
   ]
  },
  {
   "cell_type": "code",
   "execution_count": null,
   "metadata": {},
   "outputs": [],
   "source": [
    "df = df.dropna(axis=1)"
   ]
  },
  {
   "cell_type": "code",
   "execution_count": null,
   "metadata": {},
   "outputs": [],
   "source": [
    "target_col = \"39543\"\n",
    "feature_cols = [\"39553\", \"39554\", \"39555\", \"39556\", \"39557\", \"39558\"]"
   ]
  },
  {
   "cell_type": "code",
   "execution_count": null,
   "metadata": {},
   "outputs": [],
   "source": [
    "df_X = df[feature_cols]\n",
    "X = df_X.to_numpy()\n",
    "df_y = df[[target_col]]\n",
    "y = df_y.to_numpy()"
   ]
  },
  {
   "cell_type": "code",
   "execution_count": null,
   "metadata": {},
   "outputs": [],
   "source": [
    "# X_pca = PCA(n_components=2, random_state=123).fit_transform(X)\n",
    "\n",
    "pca_model = PCA(n_components=2, random_state=123).fit(X)\n",
    "X_pca = pca_model.transform(X)"
   ]
  },
  {
   "cell_type": "code",
   "execution_count": null,
   "metadata": {},
   "outputs": [],
   "source": [
    "reg = LinearRegression().fit(X_pca, y)\n",
    "preds = reg.predict(X_pca)\n",
    "preds.flatten()"
   ]
  },
  {
   "cell_type": "code",
   "execution_count": null,
   "metadata": {},
   "outputs": [],
   "source": [
    "from quartic_sdk.model import BaseQuarticModel\n",
    "\n",
    "class LinearRegressionModel(BaseQuarticModel):\n",
    "    def __init__(self, name, description, log_level, model, pca_model):\n",
    "        self.model = model\n",
    "        self.pca_model = pca_model\n",
    "        super().__init__(name=name, description=description, log_level=log_level)\n",
    "        \n",
    "    def predict(self, input_df: pd.DataFrame):\n",
    "        self.log.info(\"Predicting...\")\n",
    "        X = input_df.to_numpy()\n",
    "        X_pca = self.pca_model.transform(X)\n",
    "        y_preds = self.model.predict(X_pca)\n",
    "        return pd.Series(y_preds.flatten())"
   ]
  },
  {
   "cell_type": "code",
   "execution_count": null,
   "metadata": {},
   "outputs": [],
   "source": [
    "lr_pca_model = LinearRegressionModel(name=\"lr_pca_3\",\n",
    "                                     description=\"model trained with data transformed by PCA\",\n",
    "                                     log_level=\"INFO\",\n",
    "                                     model=reg,\n",
    "                                     pca_model=pca_model)\n",
    "\n",
    "lr_pca_model.save(client=client, output_tag_name='lr_pca_3', feature_tags=feature_cols, target_tag=target_col, test_df=df_X)"
   ]
  },
  {
   "cell_type": "code",
   "execution_count": null,
   "metadata": {},
   "outputs": [],
   "source": []
  }
 ],
 "metadata": {
  "kernelspec": {
   "display_name": "Python 3",
   "language": "python",
   "name": "python3"
  },
  "language_info": {
   "codemirror_mode": {
    "name": "ipython",
    "version": 3
   },
   "file_extension": ".py",
   "mimetype": "text/x-python",
   "name": "python",
   "nbconvert_exporter": "python",
   "pygments_lexer": "ipython3",
   "version": "3.6.9"
  }
 },
 "nbformat": 4,
 "nbformat_minor": 2
}
