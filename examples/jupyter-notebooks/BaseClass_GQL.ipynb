{
 "cells": [
  {
   "cell_type": "code",
   "execution_count": 2,
   "id": "48f48ceb",
   "metadata": {},
   "outputs": [
    {
     "name": "stderr",
     "output_type": "stream",
     "text": [
      "'c:\\users\\keshav' is not recognized as an internal or external command,\n",
      "operable program or batch file.\n"
     ]
    }
   ],
   "source": []
  },
  {
   "cell_type": "code",
   "execution_count": 3,
   "id": "3f52fbd2",
   "metadata": {},
   "outputs": [
    {
     "name": "stdout",
     "output_type": "stream",
     "text": [
      "Requirement already satisfied: quartic-sdk in c:\\users\\keshav gautam\\appdata\\local\\programs\\python\\python39\\lib\\site-packages (2.10.0)\n",
      "Requirement already satisfied: markupsafe==2.0.1 in c:\\users\\keshav gautam\\appdata\\local\\programs\\python\\python39\\lib\\site-packages (from quartic-sdk) (2.0.1)\n",
      "Requirement already satisfied: async-timeout==4.0.2 in c:\\users\\keshav gautam\\appdata\\local\\programs\\python\\python39\\lib\\site-packages (from quartic-sdk) (4.0.2)\n",
      "Requirement already satisfied: py==1.11.0 in c:\\users\\keshav gautam\\appdata\\local\\programs\\python\\python39\\lib\\site-packages (from quartic-sdk) (1.11.0)\n",
      "Requirement already satisfied: yarl==1.8.1 in c:\\users\\keshav gautam\\appdata\\local\\programs\\python\\python39\\lib\\site-packages (from quartic-sdk) (1.8.1)\n",
      "Requirement already satisfied: aloe==0.2.0 in c:\\users\\keshav gautam\\appdata\\local\\programs\\python\\python39\\lib\\site-packages (from quartic-sdk) (0.2.0)\n",
      "Requirement already satisfied: sphinxcontrib-applehelp==1.0.2 in c:\\users\\keshav gautam\\appdata\\local\\programs\\python\\python39\\lib\\site-packages (from quartic-sdk) (1.0.2)\n",
      "Requirement already satisfied: sphinx-autoapi==1.7.0 in c:\\users\\keshav gautam\\appdata\\local\\programs\\python\\python39\\lib\\site-packages (from quartic-sdk) (1.7.0)\n",
      "Requirement already satisfied: unidecode==1.3.4 in c:\\users\\keshav gautam\\appdata\\local\\programs\\python\\python39\\lib\\site-packages (from quartic-sdk) (1.3.4)\n",
      "Requirement already satisfied: wrapt==1.12.1 in c:\\users\\keshav gautam\\appdata\\local\\programs\\python\\python39\\lib\\site-packages (from quartic-sdk) (1.12.1)\n",
      "Requirement already satisfied: gherkin-official==4.1.3 in c:\\users\\keshav gautam\\appdata\\local\\programs\\python\\python39\\lib\\site-packages (from quartic-sdk) (4.1.3)\n",
      "Requirement already satisfied: sphinxcontrib-serializinghtml==1.1.5 in c:\\users\\keshav gautam\\appdata\\local\\programs\\python\\python39\\lib\\site-packages (from quartic-sdk) (1.1.5)\n",
      "Requirement already satisfied: humanfriendly==10.0 in c:\\users\\keshav gautam\\appdata\\local\\programs\\python\\python39\\lib\\site-packages (from quartic-sdk) (10.0)\n",
      "Requirement already satisfied: pyparsing==2.4.7 in c:\\users\\keshav gautam\\appdata\\local\\programs\\python\\python39\\lib\\site-packages (from quartic-sdk) (2.4.7)\n",
      "Requirement already satisfied: pygments==2.12.0 in c:\\users\\keshav gautam\\appdata\\local\\programs\\python\\python39\\lib\\site-packages (from quartic-sdk) (2.12.0)\n",
      "Requirement already satisfied: urllib3==1.26.6 in c:\\users\\keshav gautam\\appdata\\local\\programs\\python\\python39\\lib\\site-packages (from quartic-sdk) (1.26.6)\n",
      "Requirement already satisfied: idna==2.10 in c:\\users\\keshav gautam\\appdata\\local\\programs\\python\\python39\\lib\\site-packages (from quartic-sdk) (2.10)\n",
      "Requirement already satisfied: jinja2==3.0.3 in c:\\users\\keshav gautam\\appdata\\local\\programs\\python\\python39\\lib\\site-packages (from quartic-sdk) (3.0.3)\n",
      "Requirement already satisfied: astroid==2.5.1 in c:\\users\\keshav gautam\\appdata\\local\\programs\\python\\python39\\lib\\site-packages (from quartic-sdk) (2.5.1)\n",
      "Requirement already satisfied: pytest==6.2.2 in c:\\users\\keshav gautam\\appdata\\local\\programs\\python\\python39\\lib\\site-packages (from quartic-sdk) (6.2.2)\n",
      "Collecting tornado==6.1\n",
      "  Using cached tornado-6.1-cp39-cp39-win_amd64.whl (422 kB)\n",
      "Requirement already satisfied: pandas==1.2.5 in c:\\users\\keshav gautam\\appdata\\local\\programs\\python\\python39\\lib\\site-packages (from quartic-sdk) (1.2.5)\n",
      "Requirement already satisfied: sphinxcontrib-qthelp==1.0.3 in c:\\users\\keshav gautam\\appdata\\local\\programs\\python\\python39\\lib\\site-packages (from quartic-sdk) (1.0.3)\n",
      "Requirement already satisfied: nose==1.3.7 in c:\\users\\keshav gautam\\appdata\\local\\programs\\python\\python39\\lib\\site-packages (from quartic-sdk) (1.3.7)\n",
      "Requirement already satisfied: ansicolors==1.1.8 in c:\\users\\keshav gautam\\appdata\\local\\programs\\python\\python39\\lib\\site-packages (from quartic-sdk) (1.1.8)\n",
      "Requirement already satisfied: multidict==6.0.2 in c:\\users\\keshav gautam\\appdata\\local\\programs\\python\\python39\\lib\\site-packages (from quartic-sdk) (6.0.2)\n",
      "Requirement already satisfied: tqdm==4.64.0 in c:\\users\\keshav gautam\\appdata\\local\\programs\\python\\python39\\lib\\site-packages (from quartic-sdk) (4.64.0)\n",
      "Requirement already satisfied: validators==0.18.2 in c:\\users\\keshav gautam\\appdata\\local\\programs\\python\\python39\\lib\\site-packages (from quartic-sdk) (0.18.2)\n",
      "Requirement already satisfied: toml==0.10.2 in c:\\users\\keshav gautam\\appdata\\local\\programs\\python\\python39\\lib\\site-packages (from quartic-sdk) (0.10.2)\n",
      "Requirement already satisfied: regex==2022.4.24 in c:\\users\\keshav gautam\\appdata\\local\\programs\\python\\python39\\lib\\site-packages (from quartic-sdk) (2022.4.24)\n",
      "Requirement already satisfied: nltk==3.6.6 in c:\\users\\keshav gautam\\appdata\\local\\programs\\python\\python39\\lib\\site-packages (from quartic-sdk) (3.6.6)\n",
      "Requirement already satisfied: python-dateutil==2.8.2 in c:\\users\\keshav gautam\\appdata\\local\\programs\\python\\python39\\lib\\site-packages (from quartic-sdk) (2.8.2)\n",
      "Requirement already satisfied: click==8.0.2 in c:\\users\\keshav gautam\\appdata\\local\\programs\\python\\python39\\lib\\site-packages (from quartic-sdk) (8.0.2)\n",
      "Requirement already satisfied: cloudpickle==1.6.0 in c:\\users\\keshav gautam\\appdata\\local\\programs\\python\\python39\\lib\\site-packages (from quartic-sdk) (1.6.0)\n",
      "Requirement already satisfied: joblib==1.1.0 in c:\\users\\keshav gautam\\appdata\\local\\programs\\python\\python39\\lib\\site-packages (from quartic-sdk) (1.1.0)\n",
      "Collecting colorama==0.4.4\n",
      "  Using cached colorama-0.4.4-py2.py3-none-any.whl (16 kB)\n",
      "Requirement already satisfied: pillow==9.0.1 in c:\\users\\keshav gautam\\appdata\\local\\programs\\python\\python39\\lib\\site-packages (from quartic-sdk) (9.0.1)\n",
      "Requirement already satisfied: aiosignal==1.2.0 in c:\\users\\keshav gautam\\appdata\\local\\programs\\python\\python39\\lib\\site-packages (from quartic-sdk) (1.2.0)\n",
      "Requirement already satisfied: coloredlogs==15.0.1 in c:\\users\\keshav gautam\\appdata\\local\\programs\\python\\python39\\lib\\site-packages (from quartic-sdk) (15.0.1)\n",
      "Requirement already satisfied: frozenlist==1.3.1 in c:\\users\\keshav gautam\\appdata\\local\\programs\\python\\python39\\lib\\site-packages (from quartic-sdk) (1.3.1)\n",
      "Requirement already satisfied: future==0.18.2 in c:\\users\\keshav gautam\\appdata\\local\\programs\\python\\python39\\lib\\site-packages (from quartic-sdk) (0.18.2)\n",
      "Requirement already satisfied: lazy-object-proxy==1.7.1 in c:\\users\\keshav gautam\\appdata\\local\\programs\\python\\python39\\lib\\site-packages (from quartic-sdk) (1.7.1)\n",
      "Requirement already satisfied: pluggy==0.13.1 in c:\\users\\keshav gautam\\appdata\\local\\programs\\python\\python39\\lib\\site-packages (from quartic-sdk) (0.13.1)\n",
      "Requirement already satisfied: aiohttp==3.8.1 in c:\\users\\keshav gautam\\appdata\\local\\programs\\python\\python39\\lib\\site-packages (from quartic-sdk) (3.8.1)\n",
      "Requirement already satisfied: alabaster==0.7.12 in c:\\users\\keshav gautam\\appdata\\local\\programs\\python\\python39\\lib\\site-packages (from quartic-sdk) (0.7.12)\n",
      "Requirement already satisfied: pytz==2022.2.1 in c:\\users\\keshav gautam\\appdata\\local\\programs\\python\\python39\\lib\\site-packages (from quartic-sdk) (2022.2.1)\n",
      "Requirement already satisfied: requests==2.25.1 in c:\\users\\keshav gautam\\appdata\\local\\programs\\python\\python39\\lib\\site-packages (from quartic-sdk) (2.25.1)\n",
      "Requirement already satisfied: snowballstemmer==2.2.0 in c:\\users\\keshav gautam\\appdata\\local\\programs\\python\\python39\\lib\\site-packages (from quartic-sdk) (2.2.0)\n",
      "Requirement already satisfied: chardet==4.0.0 in c:\\users\\keshav gautam\\appdata\\local\\programs\\python\\python39\\lib\\site-packages (from quartic-sdk) (4.0.0)\n",
      "Requirement already satisfied: sphinxcontrib-htmlhelp==2.0.0 in c:\\users\\keshav gautam\\appdata\\local\\programs\\python\\python39\\lib\\site-packages (from quartic-sdk) (2.0.0)\n",
      "Requirement already satisfied: nest-asyncio==1.5.4 in c:\\users\\keshav gautam\\appdata\\local\\programs\\python\\python39\\lib\\site-packages (from quartic-sdk) (1.5.4)\n",
      "Requirement already satisfied: attrs==22.1.0 in c:\\users\\keshav gautam\\appdata\\local\\programs\\python\\python39\\lib\\site-packages (from quartic-sdk) (22.1.0)\n",
      "Requirement already satisfied: numpy==1.22.0 in c:\\users\\keshav gautam\\appdata\\local\\programs\\python\\python39\\lib\\site-packages (from quartic-sdk) (1.22.0)\n",
      "Requirement already satisfied: six==1.15.0 in c:\\users\\keshav gautam\\appdata\\local\\programs\\python\\python39\\lib\\site-packages (from quartic-sdk) (1.15.0)\n",
      "Collecting sphinx==3.5.1\n",
      "  Using cached Sphinx-3.5.1-py3-none-any.whl (2.8 MB)\n",
      "Requirement already satisfied: docutils==0.18.1 in c:\\users\\keshav gautam\\appdata\\local\\programs\\python\\python39\\lib\\site-packages (from quartic-sdk) (0.18.1)\n",
      "Requirement already satisfied: decorator==5.1.1 in c:\\users\\keshav gautam\\appdata\\local\\programs\\python\\python39\\lib\\site-packages (from quartic-sdk) (5.1.1)\n",
      "Requirement already satisfied: charset-normalizer==2.1.1 in c:\\users\\keshav gautam\\appdata\\local\\programs\\python\\python39\\lib\\site-packages (from quartic-sdk) (2.1.1)\n",
      "Requirement already satisfied: babel==2.10.1 in c:\\users\\keshav gautam\\appdata\\local\\programs\\python\\python39\\lib\\site-packages (from quartic-sdk) (2.10.1)\n",
      "Requirement already satisfied: imagesize==1.3.0 in c:\\users\\keshav gautam\\appdata\\local\\programs\\python\\python39\\lib\\site-packages (from quartic-sdk) (1.3.0)\n",
      "Requirement already satisfied: typed-ast==1.4.2 in c:\\users\\keshav gautam\\appdata\\local\\programs\\python\\python39\\lib\\site-packages (from quartic-sdk) (1.4.2)\n",
      "Requirement already satisfied: sphinxcontrib-jsmath==1.0.1 in c:\\users\\keshav gautam\\appdata\\local\\programs\\python\\python39\\lib\\site-packages (from quartic-sdk) (1.0.1)\n",
      "Requirement already satisfied: iniconfig==1.1.1 in c:\\users\\keshav gautam\\appdata\\local\\programs\\python\\python39\\lib\\site-packages (from quartic-sdk) (1.1.1)\n",
      "Requirement already satisfied: livereload==2.6.3 in c:\\users\\keshav gautam\\appdata\\local\\programs\\python\\python39\\lib\\site-packages (from quartic-sdk) (2.6.3)\n",
      "Requirement already satisfied: sphinxcontrib-devhelp==1.0.2 in c:\\users\\keshav gautam\\appdata\\local\\programs\\python\\python39\\lib\\site-packages (from quartic-sdk) (1.0.2)\n",
      "Requirement already satisfied: pyyaml==5.4.1 in c:\\users\\keshav gautam\\appdata\\local\\programs\\python\\python39\\lib\\site-packages (from quartic-sdk) (5.4.1)\n",
      "Requirement already satisfied: lunr==0.5.8 in c:\\users\\keshav gautam\\appdata\\local\\programs\\python\\python39\\lib\\site-packages (from quartic-sdk) (0.5.8)\n",
      "Collecting packaging==20.9\n",
      "  Using cached packaging-20.9-py2.py3-none-any.whl (40 kB)\n",
      "Requirement already satisfied: aiogqlc==2.2.0 in c:\\users\\keshav gautam\\appdata\\local\\programs\\python\\python39\\lib\\site-packages (from quartic-sdk) (2.2.0)\n",
      "Requirement already satisfied: certifi==2021.5.30 in c:\\users\\keshav gautam\\appdata\\local\\programs\\python\\python39\\lib\\site-packages (from quartic-sdk) (2021.5.30)\n",
      "Requirement already satisfied: pyreadline3 in c:\\users\\keshav gautam\\appdata\\local\\programs\\python\\python39\\lib\\site-packages (from humanfriendly==10.0->quartic-sdk) (3.4.1)\n",
      "Requirement already satisfied: atomicwrites>=1.0 in c:\\users\\keshav gautam\\appdata\\local\\programs\\python\\python39\\lib\\site-packages (from pytest==6.2.2->quartic-sdk) (1.4.1)\n",
      "Requirement already satisfied: setuptools in c:\\users\\keshav gautam\\appdata\\local\\programs\\python\\python39\\lib\\site-packages (from sphinx==3.5.1->quartic-sdk) (56.0.0)\n",
      "Installing collected packages: packaging, colorama, tornado, sphinx\n",
      "  Attempting uninstall: packaging\n",
      "    Found existing installation: packaging 21.3\n",
      "    Uninstalling packaging-21.3:\n",
      "      Successfully uninstalled packaging-21.3\n",
      "  Attempting uninstall: colorama\n",
      "    Found existing installation: colorama 0.4.5\n",
      "    Uninstalling colorama-0.4.5:\n",
      "      Successfully uninstalled colorama-0.4.5\n",
      "  Attempting uninstall: tornado\n",
      "    Found existing installation: tornado 6.2\n",
      "    Uninstalling tornado-6.2:\n",
      "      Successfully uninstalled tornado-6.2\n"
     ]
    },
    {
     "name": "stderr",
     "output_type": "stream",
     "text": [
      "ERROR: Could not install packages due to an OSError: [WinError 5] Access is denied: 'C:\\\\Users\\\\keshav Gautam\\\\AppData\\\\Local\\\\Programs\\\\Python\\\\Python39\\\\Lib\\\\site-packages\\\\~-rnado\\\\speedups.pyd'\n",
      "Consider using the `--user` option or check the permissions.\n",
      "\n",
      "WARNING: You are using pip version 21.1.1; however, version 22.3.1 is available.\n",
      "You should consider upgrading via the 'c:\\users\\keshav gautam\\appdata\\local\\programs\\python\\python39\\python.exe -m pip install --upgrade pip' command.\n"
     ]
    }
   ],
   "source": [
    "! pip install quartic-sdk"
   ]
  },
  {
   "cell_type": "code",
   "execution_count": 6,
   "id": "e8427e59",
   "metadata": {},
   "outputs": [],
   "source": [
    "from quartic_sdk import APIClient, GraphqlClient\n",
    "from pprint import pprint\n",
    "\n",
    "true=True\n",
    "false=False\n",
    "\n",
    "class Client:\n",
    "\n",
    "    def __init__(self, url, username, password):\n",
    "        self._graphql_client = GraphqlClient(url=url,\n",
    "            username=username, password=password)\n",
    "        self._api_client = APIClient(host=url,\n",
    "            username=username, password=password)\n",
    "\n",
    "    def graphql_client(self):\n",
    "        return self._graphql_client\n",
    "    \n",
    "    def api_client(self):\n",
    "        return self._api_client\n",
    "        \n",
    "    def get_all_entity_types(self):\n",
    "        \"\"\"\n",
    "        \"\"\"\n",
    "        gql_query = \"\"\"\n",
    "        query MyQuery {\n",
    "          AhEntityType {\n",
    "            name\n",
    "            id\n",
    "          }\n",
    "        }\n",
    "        \"\"\"\n",
    "        return self._graphql_client.execute_query(gql_query)[\"data\"][\"AhEntityType\"]"
   ]
  },
  {
   "cell_type": "code",
   "execution_count": 7,
   "id": "b435d65b",
   "metadata": {},
   "outputs": [
    {
     "name": "stderr",
     "output_type": "stream",
     "text": [
      "\u001b[32m2022-12-03 10:15:21\u001b[0m \u001b[35mLAPTOP-BI53MUD2\u001b[0m \u001b[34masyncio[18276]\u001b[0m \u001b[1;30mDEBUG\u001b[0m \u001b[32mUsing selector: SelectSelector\u001b[0m\n"
     ]
    }
   ],
   "source": [
    "client = Client(\"https://stag.quartic.ai\", \"dev123\", \"dev@quartic.ai\")"
   ]
  },
  {
   "cell_type": "code",
   "execution_count": 8,
   "id": "dbb70b19",
   "metadata": {},
   "outputs": [
    {
     "name": "stderr",
     "output_type": "stream",
     "text": [
      "\u001b[32m2022-12-03 10:15:58\u001b[0m \u001b[35mLAPTOP-BI53MUD2\u001b[0m \u001b[34masyncio[18276]\u001b[0m \u001b[1;30mDEBUG\u001b[0m \u001b[32mUsing selector: SelectSelector\u001b[0m\n"
     ]
    },
    {
     "name": "stdout",
     "output_type": "stream",
     "text": [
      "[{'name': 'Manufacturing Order', 'id': '4'}, {'name': 'Event capture', 'id': '5'}, {'name': 'Test Name', 'id': '8'}, {'name': 'Test Name', 'id': '9'}, {'name': 'ASSET_CLASS', 'id': '3'}, {'name': 'PROCESS_UNIT', 'id': '1'}, {'name': 'WORK_CELL', 'id': '2'}]\n"
     ]
    }
   ],
   "source": [
    "abc = client.get_all_entity_types()\n",
    "print(abc)"
   ]
  },
  {
   "cell_type": "code",
   "execution_count": null,
   "id": "f3252077",
   "metadata": {},
   "outputs": [],
   "source": []
  }
 ],
 "metadata": {
  "kernelspec": {
   "display_name": "Python 3.9.5 64-bit",
   "language": "python",
   "name": "python3"
  },
  "language_info": {
   "codemirror_mode": {
    "name": "ipython",
    "version": 3
   },
   "file_extension": ".py",
   "mimetype": "text/x-python",
   "name": "python",
   "nbconvert_exporter": "python",
   "pygments_lexer": "ipython3",
   "version": "3.9.5"
  },
  "vscode": {
   "interpreter": {
    "hash": "337106965115825fccc92fb95944c976a76d4e8d94b9570da662635b0fff4598"
   }
  }
 },
 "nbformat": 4,
 "nbformat_minor": 5
}
