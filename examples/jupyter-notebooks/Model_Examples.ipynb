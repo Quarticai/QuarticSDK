{
 "cells": [
  {
   "cell_type": "code",
   "execution_count": 2,
   "id": "c579bf11",
   "metadata": {},
   "outputs": [],
   "source": [
    "import pandas as pd\n",
    "from quartic_sdk.model import BaseQuarticModel\n",
    "from quartic_sdk import APIClient\n",
    "import os\n"
   ]
  },
  {
   "cell_type": "code",
   "execution_count": 3,
   "id": "35e2eaf0",
   "metadata": {},
   "outputs": [],
   "source": [
    "client = APIClient(\n",
    "    os.environ.get(\"QUARTIC_HOST\"),\n",
    "    username=os.environ.get(\"QUARTIC_USERNAME\"),\n",
    "    password=os.environ.get(\"QUARTIC_PASSWORD\"),\n",
    "    verify_ssl=False,\n",
    ")\n",
    "\n",
    "assets = client.assets()\n",
    "asset = assets.get(\"id\", 258)\n"
   ]
  },
  {
   "cell_type": "code",
   "execution_count": 6,
   "id": "87df4db0",
   "metadata": {},
   "outputs": [],
   "source": [
    "asset_data_itr = asset.data(start_time=1620650445000, stop_time=1620654045000)\n",
    "df = pd.DataFrame()\n",
    "for next_df in asset_data_itr:\n",
    "    df = pd.concat([df, next_df])\n",
    "\n",
    "target_col = \"32256\"\n",
    "feature_cols = [\"32257\", \"32255\"]\n"
   ]
  },
  {
   "cell_type": "code",
   "execution_count": 10,
   "id": "526ba965",
   "metadata": {
    "scrolled": true
   },
   "outputs": [
    {
     "name": "stdout",
     "output_type": "stream",
     "text": [
      "Shape :  (7135, 3)\n",
      "\n",
      "              32257        32255\n",
      "count  7082.000000  6833.000000\n",
      "mean     15.017227    15.028977\n",
      "std       8.940544     8.937071\n",
      "min       0.000000     0.000000\n",
      "25%       7.000000     7.000000\n",
      "50%      15.000000    15.000000\n",
      "75%      23.000000    23.000000\n",
      "max      30.000000    30.000000\n"
     ]
    }
   ],
   "source": [
    "# Data Characteristics\n",
    "print(\"Shape : \", df.shape)\n",
    "print(\"\\n\", df[feature_cols].describe())"
   ]
  },
  {
   "cell_type": "code",
   "execution_count": 11,
   "id": "f2cc7ee3",
   "metadata": {},
   "outputs": [],
   "source": [
    "df = df.dropna(axis=0)"
   ]
  },
  {
   "cell_type": "code",
   "execution_count": 12,
   "id": "aac5665b",
   "metadata": {},
   "outputs": [],
   "source": [
    "df_X = df[feature_cols]\n",
    "df_y = df[[target_col]]\n",
    "X = df_X.to_numpy()\n",
    "y = df_y.to_numpy()\n",
    "y = y.reshape(-1)\n",
    "\n",
    "from sklearn.model_selection import train_test_split\n",
    "X_train, X_test, y_train, y_test = train_test_split(X, y, test_size=0.30, random_state=42)"
   ]
  },
  {
   "cell_type": "code",
   "execution_count": 13,
   "id": "96d502f5",
   "metadata": {},
   "outputs": [
    {
     "name": "stderr",
     "output_type": "stream",
     "text": [
      "e:\\tp\\lib\\site-packages\\sklearn\\ensemble\\forest.py:248: FutureWarning: The default value of n_estimators will change from 10 in version 0.20 to 100 in 0.22.\n",
      "  \"10 in version 0.20 to 100 in 0.22.\", FutureWarning)\n"
     ]
    },
    {
     "name": "stdout",
     "output_type": "stream",
     "text": [
      "Root Mean Squared Error :  0.0\n",
      "Mean Absolute Error :  0.0\n"
     ]
    },
    {
     "data": {
      "image/png": "[encoded data removed]",
      "text/plain": [
       "<Figure size 432x288 with 1 Axes>"
      ]
     },
     "metadata": {
      "needs_background": "light"
     },
     "output_type": "display_data"
    }
   ],
   "source": [
    "# apply processed data to a Random Forest Regressor model\n",
    "from sklearn.ensemble import RandomForestRegressor\n",
    "import matplotlib.pyplot as plt\n",
    "from sklearn.metrics import mean_squared_error, mean_absolute_error\n",
    "import math\n",
    "\n",
    "reg = RandomForestRegressor().fit(X_train, y_train)\n",
    "preds = reg.predict(X_test)\n",
    "\n",
    "plt.plot(preds)\n",
    "plt.plot(y_test)\n",
    "plt.legend([\"y = preds\", \"y = y_test\"])\n",
    "\n",
    "print(\"Root Mean Squared Error : \", math.sqrt(mean_squared_error(y_test, preds)))\n",
    "print(\"Mean Absolute Error : \", mean_squared_error(y_test, preds))\n"
   ]
  },
  {
   "cell_type": "code",
   "execution_count": 14,
   "id": "c7a2ce5c",
   "metadata": {},
   "outputs": [],
   "source": [
    "from quartic_sdk.model import BaseQuarticModel\n",
    "\n",
    "\n",
    "class RandomForestRegressionModel(BaseQuarticModel):\n",
    "    def __init__(self, name, description, model):\n",
    "        self.model = model\n",
    "        super().__init__(name=name, description=description)\n",
    "\n",
    "    def train(self, X_train, y_train):\n",
    "        self.model.fit(X_train, y_train)\n",
    "\n",
    "    def predict(self, X_predict):\n",
    "        predictions = self.model.predict(X_predict)\n",
    "        return pd.Series(predictions)\n",
    "\n",
    "\n",
    "RF_regressor_model = RandomForestRegressionModel(\n",
    "    name=\"Random_Forest_Regressor\",\n",
    "    description=\"Simple model using Random Forest Regression\",\n",
    "    model=reg,\n",
    ")\n",
    "\n",
    "RF_regressor_model.train(\n",
    "    X_train, y_train\n",
    ")  # Training data extracted from data loaded from the Quartic AI Platform\n",
    "\n",
    "RF_regressor_model.predict(df_X)\n",
    "\n",
    "RF_regressor_model.save(\n",
    "    client=client,\n",
    "    output_tag_name=f\"Prediction Result of {target_col}\",\n",
    "    feature_tags=feature_cols,  # tags that are used in the X variable or features\n",
    "    target_tag=target_col,  # tag that specifies a relationship for prediction\n",
    "    test_df=df_X,\n",
    ")\n"
   ]
  }
 ],
 "metadata": {
  "kernelspec": {
   "display_name": "Python 3",
   "language": "python",
   "name": "python3"
  },
  "language_info": {
   "codemirror_mode": {
    "name": "ipython",
    "version": 3
   },
   "file_extension": ".py",
   "mimetype": "text/x-python",
   "name": "python",
   "nbconvert_exporter": "python",
   "pygments_lexer": "ipython3",
   "version": "3.8.3"
  }
 },
 "nbformat": 4,
 "nbformat_minor": 5
}
